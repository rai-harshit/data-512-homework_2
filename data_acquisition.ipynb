{
 "cells": [
  {
   "cell_type": "markdown",
   "metadata": {},
   "source": [
    "### Getting Wikipedia Data for each US city"
   ]
  },
  {
   "cell_type": "code",
   "execution_count": 15,
   "metadata": {},
   "outputs": [],
   "source": [
    "# Importing libraries\n",
    "import json, time\n",
    "import requests\n",
    "import pandas as pd\n",
    "from tqdm import tqdm\n",
    "from dotenv import dotenv_values"
   ]
  },
  {
   "cell_type": "code",
   "execution_count": 2,
   "metadata": {},
   "outputs": [],
   "source": [
    "# Code snippet sourced from Dr. David W. McDonald's \"\" notebook\n",
    "# License: CC BY 4.0\n",
    "# Original Source: \n",
    "\n",
    "# The basic English Wikipedia API endpoint\n",
    "API_ENWIKIPEDIA_ENDPOINT = \"https://en.wikipedia.org/w/api.php\"\n",
    "\n",
    "# We'll assume that there needs to be some throttling for these requests - we should always be nice to a free data resource\n",
    "API_LATENCY_ASSUMED = 0.002       # Assuming roughly 2ms latency on the API and network\n",
    "API_THROTTLE_WAIT = (1.0/100.0)-API_LATENCY_ASSUMED\n",
    "\n",
    "# When making automated requests we should include something that is unique to the person making the request\n",
    "# This should include an email - your UW email would be good to put in there\n",
    "REQUEST_HEADERS = {\n",
    "    'User-Agent': '<harshit@uw.edu>, University of Washington, MSDS DATA 512 - AUTUMN 2023',\n",
    "}\n",
    "\n",
    "# This is a string of additional page properties that can be returned see the Info documentation for\n",
    "# what can be included. If you don't want any this can simply be the empty string\n",
    "PAGEINFO_EXTENDED_PROPERTIES = \"talkid|url|watched|watchers\"\n",
    "#PAGEINFO_EXTENDED_PROPERTIES = \"\"\n",
    "\n",
    "# This template lists the basic parameters for making this\n",
    "PAGEINFO_PARAMS_TEMPLATE = {\n",
    "    \"action\": \"query\",\n",
    "    \"format\": \"json\",\n",
    "    \"titles\": None,\n",
    "    \"prop\": \"info\",\n",
    "    \"inprop\": PAGEINFO_EXTENDED_PROPERTIES\n",
    "}\n"
   ]
  },
  {
   "cell_type": "code",
   "execution_count": 3,
   "metadata": {},
   "outputs": [],
   "source": [
    "# Code snippet sourced from Dr. David W. McDonald's \"\" notebook\n",
    "# License: CC BY 4.0\n",
    "# Original Source: \n",
    "\n",
    "def request_pageinfo_per_article(article_title = None, \n",
    "                                 endpoint_url = API_ENWIKIPEDIA_ENDPOINT, \n",
    "                                 request_template = PAGEINFO_PARAMS_TEMPLATE,\n",
    "                                 headers = REQUEST_HEADERS):\n",
    "    \n",
    "    # article title can be as a parameter to the call or in the request_template\n",
    "    if article_title:\n",
    "        request_template['titles'] = article_title\n",
    "\n",
    "    if not request_template['titles']:\n",
    "        raise Exception(\"Must supply an article title to make a pageinfo request.\")\n",
    "\n",
    "    # make the request\n",
    "    try:\n",
    "        # we'll wait first, to make sure we don't exceed the limit in the situation where an exception\n",
    "        # occurs during the request processing - throttling is always a good practice with a free\n",
    "        # data source like Wikipedia - or any other community sources\n",
    "        if API_THROTTLE_WAIT > 0.0:\n",
    "            time.sleep(API_THROTTLE_WAIT)\n",
    "        response = requests.get(endpoint_url, headers=headers, params=request_template)\n",
    "        json_response = response.json()\n",
    "    except Exception as e:\n",
    "        print(e)\n",
    "        json_response = None\n",
    "    return json_response\n"
   ]
  },
  {
   "cell_type": "code",
   "execution_count": 4,
   "metadata": {},
   "outputs": [],
   "source": [
    "# Read CSV which contains the list of cities and states in the US\n",
    "df_cities = pd.read_csv(\"us_cities_by_state_SEPT.2023.csv\")"
   ]
  },
  {
   "cell_type": "code",
   "execution_count": 5,
   "metadata": {},
   "outputs": [
    {
     "data": {
      "text/html": [
       "<div>\n",
       "<style scoped>\n",
       "    .dataframe tbody tr th:only-of-type {\n",
       "        vertical-align: middle;\n",
       "    }\n",
       "\n",
       "    .dataframe tbody tr th {\n",
       "        vertical-align: top;\n",
       "    }\n",
       "\n",
       "    .dataframe thead th {\n",
       "        text-align: right;\n",
       "    }\n",
       "</style>\n",
       "<table border=\"1\" class=\"dataframe\">\n",
       "  <thead>\n",
       "    <tr style=\"text-align: right;\">\n",
       "      <th></th>\n",
       "      <th>state</th>\n",
       "      <th>page_title</th>\n",
       "      <th>url</th>\n",
       "    </tr>\n",
       "  </thead>\n",
       "  <tbody>\n",
       "    <tr>\n",
       "      <th>0</th>\n",
       "      <td>Alabama</td>\n",
       "      <td>Abbeville, Alabama</td>\n",
       "      <td>https://en.wikipedia.org/wiki/Abbeville,_Alabama</td>\n",
       "    </tr>\n",
       "    <tr>\n",
       "      <th>1</th>\n",
       "      <td>Alabama</td>\n",
       "      <td>Adamsville, Alabama</td>\n",
       "      <td>https://en.wikipedia.org/wiki/Adamsville,_Alabama</td>\n",
       "    </tr>\n",
       "    <tr>\n",
       "      <th>2</th>\n",
       "      <td>Alabama</td>\n",
       "      <td>Addison, Alabama</td>\n",
       "      <td>https://en.wikipedia.org/wiki/Addison,_Alabama</td>\n",
       "    </tr>\n",
       "    <tr>\n",
       "      <th>3</th>\n",
       "      <td>Alabama</td>\n",
       "      <td>Akron, Alabama</td>\n",
       "      <td>https://en.wikipedia.org/wiki/Akron,_Alabama</td>\n",
       "    </tr>\n",
       "    <tr>\n",
       "      <th>4</th>\n",
       "      <td>Alabama</td>\n",
       "      <td>Alabaster, Alabama</td>\n",
       "      <td>https://en.wikipedia.org/wiki/Alabaster,_Alabama</td>\n",
       "    </tr>\n",
       "  </tbody>\n",
       "</table>\n",
       "</div>"
      ],
      "text/plain": [
       "     state           page_title  \\\n",
       "0  Alabama   Abbeville, Alabama   \n",
       "1  Alabama  Adamsville, Alabama   \n",
       "2  Alabama     Addison, Alabama   \n",
       "3  Alabama       Akron, Alabama   \n",
       "4  Alabama   Alabaster, Alabama   \n",
       "\n",
       "                                                 url  \n",
       "0   https://en.wikipedia.org/wiki/Abbeville,_Alabama  \n",
       "1  https://en.wikipedia.org/wiki/Adamsville,_Alabama  \n",
       "2     https://en.wikipedia.org/wiki/Addison,_Alabama  \n",
       "3       https://en.wikipedia.org/wiki/Akron,_Alabama  \n",
       "4   https://en.wikipedia.org/wiki/Alabaster,_Alabama  "
      ]
     },
     "execution_count": 5,
     "metadata": {},
     "output_type": "execute_result"
    }
   ],
   "source": [
    "# Print the first 5 rows of the dataframe\n",
    "df_cities.head()"
   ]
  },
  {
   "cell_type": "code",
   "execution_count": 6,
   "metadata": {},
   "outputs": [
    {
     "name": "stderr",
     "output_type": "stream",
     "text": [
      "  0%|          | 2/22157 [00:00<1:48:20,  3.41it/s]"
     ]
    },
    {
     "name": "stderr",
     "output_type": "stream",
     "text": [
      "100%|██████████| 22157/22157 [1:47:35<00:00,  3.43it/s]  \n"
     ]
    }
   ],
   "source": [
    "# Create a list of dictionaries which will contain the pageinfo for each city\n",
    "cities_data = []\n",
    "total_iter = len(df_cities)\n",
    "for index, row in tqdm(df_cities.iterrows(), total=total_iter):\n",
    "    page_title = row['page_title'].replace(\" \", \"_\")\n",
    "    pageinfo = request_pageinfo_per_article(article_title=page_title)['query']['pages']\n",
    "    cities_data.append(pageinfo)"
   ]
  },
  {
   "cell_type": "code",
   "execution_count": 7,
   "metadata": {},
   "outputs": [],
   "source": [
    "# Dump the data into a JSON file\n",
    "json.dump(cities_data, open(\"cities_data.json\", \"w\"))"
   ]
  },
  {
   "cell_type": "markdown",
   "metadata": {},
   "source": [
    "### Getting Article Quality Prediction"
   ]
  },
  {
   "cell_type": "code",
   "execution_count": 117,
   "metadata": {},
   "outputs": [],
   "source": [
    "# Read the JSON file\n",
    "with open('cities_data.json', 'r') as file:\n",
    "    data = file.read()"
   ]
  },
  {
   "cell_type": "code",
   "execution_count": 118,
   "metadata": {},
   "outputs": [],
   "source": [
    "# Parse the JSON data into a list of dictionaries\n",
    "data_list = json.loads(data)\n",
    "\n",
    "# Flatten the list of dictionaries into a list of values\n",
    "flattened_data = [list(item.values())[0] for item in data_list]\n",
    "\n",
    "# Create a dataframe from the flattened data\n",
    "df = pd.DataFrame(flattened_data)"
   ]
  },
  {
   "cell_type": "code",
   "execution_count": 119,
   "metadata": {},
   "outputs": [
    {
     "data": {
      "text/html": [
       "<div>\n",
       "<style scoped>\n",
       "    .dataframe tbody tr th:only-of-type {\n",
       "        vertical-align: middle;\n",
       "    }\n",
       "\n",
       "    .dataframe tbody tr th {\n",
       "        vertical-align: top;\n",
       "    }\n",
       "\n",
       "    .dataframe thead th {\n",
       "        text-align: right;\n",
       "    }\n",
       "</style>\n",
       "<table border=\"1\" class=\"dataframe\">\n",
       "  <thead>\n",
       "    <tr style=\"text-align: right;\">\n",
       "      <th></th>\n",
       "      <th>pageid</th>\n",
       "      <th>ns</th>\n",
       "      <th>title</th>\n",
       "      <th>contentmodel</th>\n",
       "      <th>pagelanguage</th>\n",
       "      <th>pagelanguagehtmlcode</th>\n",
       "      <th>pagelanguagedir</th>\n",
       "      <th>touched</th>\n",
       "      <th>lastrevid</th>\n",
       "      <th>length</th>\n",
       "      <th>talkid</th>\n",
       "      <th>fullurl</th>\n",
       "      <th>editurl</th>\n",
       "      <th>canonicalurl</th>\n",
       "      <th>watchers</th>\n",
       "      <th>redirect</th>\n",
       "      <th>new</th>\n",
       "    </tr>\n",
       "  </thead>\n",
       "  <tbody>\n",
       "    <tr>\n",
       "      <th>0</th>\n",
       "      <td>104730</td>\n",
       "      <td>0</td>\n",
       "      <td>Abbeville, Alabama</td>\n",
       "      <td>wikitext</td>\n",
       "      <td>en</td>\n",
       "      <td>en</td>\n",
       "      <td>ltr</td>\n",
       "      <td>2023-10-10T22:35:37Z</td>\n",
       "      <td>1171163550</td>\n",
       "      <td>24706</td>\n",
       "      <td>281244.0</td>\n",
       "      <td>https://en.wikipedia.org/wiki/Abbeville,_Alabama</td>\n",
       "      <td>https://en.wikipedia.org/w/index.php?title=Abb...</td>\n",
       "      <td>https://en.wikipedia.org/wiki/Abbeville,_Alabama</td>\n",
       "      <td>NaN</td>\n",
       "      <td>NaN</td>\n",
       "      <td>NaN</td>\n",
       "    </tr>\n",
       "    <tr>\n",
       "      <th>1</th>\n",
       "      <td>104761</td>\n",
       "      <td>0</td>\n",
       "      <td>Adamsville, Alabama</td>\n",
       "      <td>wikitext</td>\n",
       "      <td>en</td>\n",
       "      <td>en</td>\n",
       "      <td>ltr</td>\n",
       "      <td>2023-10-10T22:35:37Z</td>\n",
       "      <td>1177621427</td>\n",
       "      <td>18040</td>\n",
       "      <td>281272.0</td>\n",
       "      <td>https://en.wikipedia.org/wiki/Adamsville,_Alabama</td>\n",
       "      <td>https://en.wikipedia.org/w/index.php?title=Ada...</td>\n",
       "      <td>https://en.wikipedia.org/wiki/Adamsville,_Alabama</td>\n",
       "      <td>NaN</td>\n",
       "      <td>NaN</td>\n",
       "      <td>NaN</td>\n",
       "    </tr>\n",
       "    <tr>\n",
       "      <th>2</th>\n",
       "      <td>105188</td>\n",
       "      <td>0</td>\n",
       "      <td>Addison, Alabama</td>\n",
       "      <td>wikitext</td>\n",
       "      <td>en</td>\n",
       "      <td>en</td>\n",
       "      <td>ltr</td>\n",
       "      <td>2023-10-10T22:35:37Z</td>\n",
       "      <td>1168359898</td>\n",
       "      <td>13309</td>\n",
       "      <td>281517.0</td>\n",
       "      <td>https://en.wikipedia.org/wiki/Addison,_Alabama</td>\n",
       "      <td>https://en.wikipedia.org/w/index.php?title=Add...</td>\n",
       "      <td>https://en.wikipedia.org/wiki/Addison,_Alabama</td>\n",
       "      <td>NaN</td>\n",
       "      <td>NaN</td>\n",
       "      <td>NaN</td>\n",
       "    </tr>\n",
       "    <tr>\n",
       "      <th>3</th>\n",
       "      <td>104726</td>\n",
       "      <td>0</td>\n",
       "      <td>Akron, Alabama</td>\n",
       "      <td>wikitext</td>\n",
       "      <td>en</td>\n",
       "      <td>en</td>\n",
       "      <td>ltr</td>\n",
       "      <td>2023-10-10T22:35:37Z</td>\n",
       "      <td>1165909508</td>\n",
       "      <td>11710</td>\n",
       "      <td>281240.0</td>\n",
       "      <td>https://en.wikipedia.org/wiki/Akron,_Alabama</td>\n",
       "      <td>https://en.wikipedia.org/w/index.php?title=Akr...</td>\n",
       "      <td>https://en.wikipedia.org/wiki/Akron,_Alabama</td>\n",
       "      <td>NaN</td>\n",
       "      <td>NaN</td>\n",
       "      <td>NaN</td>\n",
       "    </tr>\n",
       "    <tr>\n",
       "      <th>4</th>\n",
       "      <td>105109</td>\n",
       "      <td>0</td>\n",
       "      <td>Alabaster, Alabama</td>\n",
       "      <td>wikitext</td>\n",
       "      <td>en</td>\n",
       "      <td>en</td>\n",
       "      <td>ltr</td>\n",
       "      <td>2023-10-10T22:35:37Z</td>\n",
       "      <td>1179139816</td>\n",
       "      <td>20343</td>\n",
       "      <td>281444.0</td>\n",
       "      <td>https://en.wikipedia.org/wiki/Alabaster,_Alabama</td>\n",
       "      <td>https://en.wikipedia.org/w/index.php?title=Ala...</td>\n",
       "      <td>https://en.wikipedia.org/wiki/Alabaster,_Alabama</td>\n",
       "      <td>NaN</td>\n",
       "      <td>NaN</td>\n",
       "      <td>NaN</td>\n",
       "    </tr>\n",
       "  </tbody>\n",
       "</table>\n",
       "</div>"
      ],
      "text/plain": [
       "   pageid  ns                title contentmodel pagelanguage  \\\n",
       "0  104730   0   Abbeville, Alabama     wikitext           en   \n",
       "1  104761   0  Adamsville, Alabama     wikitext           en   \n",
       "2  105188   0     Addison, Alabama     wikitext           en   \n",
       "3  104726   0       Akron, Alabama     wikitext           en   \n",
       "4  105109   0   Alabaster, Alabama     wikitext           en   \n",
       "\n",
       "  pagelanguagehtmlcode pagelanguagedir               touched   lastrevid  \\\n",
       "0                   en             ltr  2023-10-10T22:35:37Z  1171163550   \n",
       "1                   en             ltr  2023-10-10T22:35:37Z  1177621427   \n",
       "2                   en             ltr  2023-10-10T22:35:37Z  1168359898   \n",
       "3                   en             ltr  2023-10-10T22:35:37Z  1165909508   \n",
       "4                   en             ltr  2023-10-10T22:35:37Z  1179139816   \n",
       "\n",
       "   length    talkid                                            fullurl  \\\n",
       "0   24706  281244.0   https://en.wikipedia.org/wiki/Abbeville,_Alabama   \n",
       "1   18040  281272.0  https://en.wikipedia.org/wiki/Adamsville,_Alabama   \n",
       "2   13309  281517.0     https://en.wikipedia.org/wiki/Addison,_Alabama   \n",
       "3   11710  281240.0       https://en.wikipedia.org/wiki/Akron,_Alabama   \n",
       "4   20343  281444.0   https://en.wikipedia.org/wiki/Alabaster,_Alabama   \n",
       "\n",
       "                                             editurl  \\\n",
       "0  https://en.wikipedia.org/w/index.php?title=Abb...   \n",
       "1  https://en.wikipedia.org/w/index.php?title=Ada...   \n",
       "2  https://en.wikipedia.org/w/index.php?title=Add...   \n",
       "3  https://en.wikipedia.org/w/index.php?title=Akr...   \n",
       "4  https://en.wikipedia.org/w/index.php?title=Ala...   \n",
       "\n",
       "                                        canonicalurl  watchers redirect  new  \n",
       "0   https://en.wikipedia.org/wiki/Abbeville,_Alabama       NaN      NaN  NaN  \n",
       "1  https://en.wikipedia.org/wiki/Adamsville,_Alabama       NaN      NaN  NaN  \n",
       "2     https://en.wikipedia.org/wiki/Addison,_Alabama       NaN      NaN  NaN  \n",
       "3       https://en.wikipedia.org/wiki/Akron,_Alabama       NaN      NaN  NaN  \n",
       "4   https://en.wikipedia.org/wiki/Alabaster,_Alabama       NaN      NaN  NaN  "
      ]
     },
     "execution_count": 119,
     "metadata": {},
     "output_type": "execute_result"
    }
   ],
   "source": [
    "# Print the first 5 rows of the dataframe\n",
    "df.head()"
   ]
  },
  {
   "cell_type": "code",
   "execution_count": 120,
   "metadata": {},
   "outputs": [],
   "source": [
    "wiki_api_secrets = dotenv_values(\".env\")"
   ]
  },
  {
   "cell_type": "code",
   "execution_count": 121,
   "metadata": {},
   "outputs": [],
   "source": [
    "# Load the username and access token\n",
    "USERNAME = wiki_api_secrets['USERNAME']\n",
    "ACCESS_TOKEN = wiki_api_secrets['ACCESS_TOKEN']"
   ]
  },
  {
   "cell_type": "code",
   "execution_count": 122,
   "metadata": {},
   "outputs": [],
   "source": [
    "# Code snippet sourced from Dr. David W. McDonald's \"wp_ores_liftwing_example\" notebook\n",
    "# License: CC BY 4.0\n",
    "# Original Source: https://colab.research.google.com/drive/17C9xsmR9U3lJeD52UTbAedlHDetwYsxs?authuser=3#scrollTo=i7Fh0_9n3Mdd\n",
    "\n",
    "# The current LiftWing ORES API endpoint and prediction model\n",
    "API_ORES_LIFTWING_ENDPOINT = \"https://api.wikimedia.org/service/lw/inference/v1/models/{model_name}:predict\"\n",
    "API_ORES_EN_QUALITY_MODEL = \"enwiki-articlequality\"\n",
    "\n",
    "# The throttling rate is a function of the Access token that you are granted when you request the token. The constants\n",
    "# come from dissecting the token and getting the rate limits from the granted token. An example of that is below.\n",
    "API_LATENCY_ASSUMED = 0.002       # Assuming roughly 2ms latency on the API and network\n",
    "API_THROTTLE_WAIT = (60.0/5000.0)-API_LATENCY_ASSUMED\n",
    "\n",
    "# When making automated requests we should include something that is unique to the person making the request\n",
    "# This should include an email - your UW email would be good to put in there\n",
    "#    \n",
    "# Because all LiftWing API requests require some form of authentication, you need to provide your access token\n",
    "# as part of the header too\n",
    "REQUEST_HEADER_TEMPLATE = {\n",
    "    'User-Agent': \"harshit@uw.edu, University of Washington, MSDS DATA 512 - AUTUMN 2023\",\n",
    "    'Content-Type': 'application/json',\n",
    "    'Authorization': \"Bearer {access_token}\"\n",
    "}\n",
    "\n",
    "# This is a template for the parameters that we need to supply in the headers of an API request\n",
    "REQUEST_HEADER_PARAMS_TEMPLATE = {\n",
    "    'email_address' : \"harshit.rai.usa@gmail.com\",\n",
    "    'access_token'  : ACCESS_TOKEN\n",
    "}\n",
    "\n",
    "# This is a template of the data required as a payload when making a scoring request of the ORES model\n",
    "ORES_REQUEST_DATA_TEMPLATE = {\n",
    "    \"lang\":        \"en\",     # required that its english - we're scoring English Wikipedia revisions\n",
    "    \"rev_id\":      \"\",       # this request requires a revision id\n",
    "    \"features\":    True\n",
    "}"
   ]
  },
  {
   "cell_type": "code",
   "execution_count": 130,
   "metadata": {},
   "outputs": [],
   "source": [
    "# Code snippet sourced from Dr. David W. McDonald's \"wp_ores_liftwing_example\" notebook\n",
    "# License: CC BY 4.0\n",
    "# Original Source: https://colab.research.google.com/drive/17C9xsmR9U3lJeD52UTbAedlHDetwYsxs?authuser=3#scrollTo=i7Fh0_9n3Mdd\n",
    "\n",
    "def request_ores_score_per_article(article_revid = None,\n",
    "                                   endpoint_url = API_ORES_LIFTWING_ENDPOINT, \n",
    "                                   model_name = API_ORES_EN_QUALITY_MODEL, \n",
    "                                   request_data = ORES_REQUEST_DATA_TEMPLATE, \n",
    "                                   header_format = REQUEST_HEADER_TEMPLATE, \n",
    "                                   header_params = REQUEST_HEADER_PARAMS_TEMPLATE):\n",
    "    \n",
    "    #    Make sure we have an article revision id, email and token\n",
    "    #    This approach prioritizes the parameters passed in when making the call\n",
    "    if article_revid:\n",
    "        request_data['rev_id'] = article_revid\n",
    "    \n",
    "    #   Making a request requires a revision id - an email address - and the access token\n",
    "    if not request_data['rev_id']:\n",
    "        raise Exception(\"Must provide an article revision id (rev_id) to score articles\")\n",
    "    if not header_params['email_address']:\n",
    "        raise Exception(\"Must provide an 'email_address' value\")\n",
    "    if not header_params['access_token']:\n",
    "        raise Exception(\"Must provide an 'access_token' value\")\n",
    "    \n",
    "    # Create the request URL with the specified model parameter - default is a article quality score request\n",
    "    request_url = endpoint_url.format(model_name=model_name)\n",
    "    \n",
    "    # Create a compliant request header from the template and the supplied parameters\n",
    "    headers = dict()\n",
    "    for key in header_format.keys():\n",
    "        headers[str(key)] = header_format[key].format(**header_params)\n",
    "    \n",
    "    # make the request\n",
    "    try:\n",
    "        # we'll wait first, to make sure we don't exceed the limit in the situation where an exception\n",
    "        # occurs during the request processing - throttling is always a good practice with a free data\n",
    "        # source like ORES - or other community sources\n",
    "        if API_THROTTLE_WAIT > 0.0:\n",
    "            time.sleep(API_THROTTLE_WAIT)\n",
    "        response = requests.post(request_url, headers=headers, data=json.dumps(request_data))\n",
    "        json_response = response.json()\n",
    "        prediction = json_response['enwiki']['scores'][str(article_revid)]['articlequality']['score']['prediction']\n",
    "        prediction_score = json_response['enwiki']['scores'][str(article_revid)]['articlequality']['score']['probability'][prediction]\n",
    "        if type(prediction_score) is not float:\n",
    "            print(\"Prediction score is not a float\")\n",
    "    except Exception as e:\n",
    "        print(e)\n",
    "        prediction, prediction_score = (None, None)\n",
    "    return (prediction, prediction_score)\n"
   ]
  },
  {
   "cell_type": "code",
   "execution_count": null,
   "metadata": {},
   "outputs": [],
   "source": [
    "# Create two new columns in the dataframe to store the article quality and quality score\n",
    "total_iter = len(df)\n",
    "for index, row in tqdm(df.iterrows(), total=total_iter):\n",
    "    article_revid = row['lastrevid']\n",
    "    prediction, prediction_score = request_ores_score_per_article(article_revid = article_revid)\n",
    "    df.loc[index, 'article_quality'] = prediction\n",
    "    df.loc[index, 'quality_score'] = prediction_score"
   ]
  },
  {
   "cell_type": "code",
   "execution_count": 150,
   "metadata": {},
   "outputs": [
    {
     "name": "stdout",
     "output_type": "stream",
     "text": [
      "Number of failed requests: 4220\n"
     ]
    }
   ],
   "source": [
    "# Filter the dataframe to only include articles with a quality score\n",
    "df_failed = df[df['quality_score'].isna()]\n",
    "print(f\"Number of failed requests: {len(df_failed)}\")"
   ]
  },
  {
   "cell_type": "code",
   "execution_count": 149,
   "metadata": {},
   "outputs": [
    {
     "name": "stderr",
     "output_type": "stream",
     "text": [
      "100%|██████████| 4220/4220 [45:38<00:00,  1.54it/s]  \n"
     ]
    }
   ],
   "source": [
    "# Rerun the ORES API call for the articles that failed\n",
    "total_iter = len(df_failed)\n",
    "for index, row in tqdm(df_failed.iterrows(), total=total_iter):\n",
    "    article_revid = row['lastrevid']\n",
    "    prediction, prediction_score = request_ores_score_per_article(article_revid = article_revid)\n",
    "    df.loc[index, 'article_quality'] = prediction\n",
    "    df.loc[index, 'quality_score'] = prediction_score"
   ]
  },
  {
   "cell_type": "code",
   "execution_count": 151,
   "metadata": {},
   "outputs": [
    {
     "name": "stdout",
     "output_type": "stream",
     "text": [
      "Number of failed requests: 0\n"
     ]
    }
   ],
   "source": [
    "# Confirm that there are no more failed requests\n",
    "df_failed = df[df['quality_score'].isna()]\n",
    "print(f\"Number of failed requests: {len(df_failed)}\")"
   ]
  },
  {
   "cell_type": "code",
   "execution_count": 152,
   "metadata": {},
   "outputs": [],
   "source": [
    "# Save the dataframe to a CSV file\n",
    "df.to_csv(\"cities_data_with_quality.csv\", index=False)"
   ]
  },
  {
   "cell_type": "code",
   "execution_count": 154,
   "metadata": {},
   "outputs": [
    {
     "data": {
      "text/plain": [
       "article_quality\n",
       "C        13343\n",
       "GA        4809\n",
       "Start     2198\n",
       "B          914\n",
       "Stub       679\n",
       "FA         214\n",
       "Name: count, dtype: int64"
      ]
     },
     "execution_count": 154,
     "metadata": {},
     "output_type": "execute_result"
    }
   ],
   "source": [
    "df['article_quality'].value_counts()"
   ]
  },
  {
   "cell_type": "code",
   "execution_count": 246,
   "metadata": {},
   "outputs": [],
   "source": [
    "# Select only the columns that are required for the analysis\n",
    "df = df[['title', 'lastrevid', 'article_quality']]\n",
    "df.columns = ['article_title', 'revision_id', 'article_quality']"
   ]
  },
  {
   "cell_type": "code",
   "execution_count": 247,
   "metadata": {},
   "outputs": [],
   "source": [
    "# Derive state name by joining on the page title found in the original dataset\n",
    "df = df.merge(df_cities[['page_title', 'state']], left_on='article_title', right_on='page_title', how='left')\n",
    "# Drop the page title column\n",
    "df = df.drop(columns=['page_title'])"
   ]
  },
  {
   "cell_type": "code",
   "execution_count": 248,
   "metadata": {},
   "outputs": [],
   "source": [
    "# Replace _ with space in the state column\n",
    "df['state'] = df['state'].str.replace(\"_\", \" \")\n",
    "\n",
    "# Replace 'Georgia (U.S. state)' with 'Georgia' to match the state name in the US States by Region dataset\n",
    "df.loc[df['state'] == 'Georgia (U.S. state)', 'state'] = 'Georgia'"
   ]
  },
  {
   "cell_type": "code",
   "execution_count": 249,
   "metadata": {},
   "outputs": [
    {
     "data": {
      "text/html": [
       "<div>\n",
       "<style scoped>\n",
       "    .dataframe tbody tr th:only-of-type {\n",
       "        vertical-align: middle;\n",
       "    }\n",
       "\n",
       "    .dataframe tbody tr th {\n",
       "        vertical-align: top;\n",
       "    }\n",
       "\n",
       "    .dataframe thead th {\n",
       "        text-align: right;\n",
       "    }\n",
       "</style>\n",
       "<table border=\"1\" class=\"dataframe\">\n",
       "  <thead>\n",
       "    <tr style=\"text-align: right;\">\n",
       "      <th></th>\n",
       "      <th>article_title</th>\n",
       "      <th>revision_id</th>\n",
       "      <th>article_quality</th>\n",
       "      <th>state</th>\n",
       "    </tr>\n",
       "  </thead>\n",
       "  <tbody>\n",
       "    <tr>\n",
       "      <th>0</th>\n",
       "      <td>Abbeville, Alabama</td>\n",
       "      <td>1171163550</td>\n",
       "      <td>C</td>\n",
       "      <td>Alabama</td>\n",
       "    </tr>\n",
       "    <tr>\n",
       "      <th>1</th>\n",
       "      <td>Abbeville, Alabama</td>\n",
       "      <td>1171163550</td>\n",
       "      <td>C</td>\n",
       "      <td>Alabama</td>\n",
       "    </tr>\n",
       "    <tr>\n",
       "      <th>2</th>\n",
       "      <td>Adamsville, Alabama</td>\n",
       "      <td>1177621427</td>\n",
       "      <td>C</td>\n",
       "      <td>Alabama</td>\n",
       "    </tr>\n",
       "    <tr>\n",
       "      <th>3</th>\n",
       "      <td>Adamsville, Alabama</td>\n",
       "      <td>1177621427</td>\n",
       "      <td>C</td>\n",
       "      <td>Alabama</td>\n",
       "    </tr>\n",
       "    <tr>\n",
       "      <th>4</th>\n",
       "      <td>Addison, Alabama</td>\n",
       "      <td>1168359898</td>\n",
       "      <td>C</td>\n",
       "      <td>Alabama</td>\n",
       "    </tr>\n",
       "  </tbody>\n",
       "</table>\n",
       "</div>"
      ],
      "text/plain": [
       "         article_title  revision_id article_quality    state\n",
       "0   Abbeville, Alabama   1171163550               C  Alabama\n",
       "1   Abbeville, Alabama   1171163550               C  Alabama\n",
       "2  Adamsville, Alabama   1177621427               C  Alabama\n",
       "3  Adamsville, Alabama   1177621427               C  Alabama\n",
       "4     Addison, Alabama   1168359898               C  Alabama"
      ]
     },
     "execution_count": 249,
     "metadata": {},
     "output_type": "execute_result"
    }
   ],
   "source": [
    "df.head()"
   ]
  },
  {
   "cell_type": "markdown",
   "metadata": {},
   "source": [
    "### Combining the Datasets"
   ]
  },
  {
   "cell_type": "code",
   "execution_count": 250,
   "metadata": {},
   "outputs": [],
   "source": [
    "# Read XLSX file containing the list of states and their regions\n",
    "df_states = pd.read_excel(\"US States by Region - US Census Bureau.xlsx\")"
   ]
  },
  {
   "cell_type": "code",
   "execution_count": 251,
   "metadata": {},
   "outputs": [
    {
     "data": {
      "text/html": [
       "<div>\n",
       "<style scoped>\n",
       "    .dataframe tbody tr th:only-of-type {\n",
       "        vertical-align: middle;\n",
       "    }\n",
       "\n",
       "    .dataframe tbody tr th {\n",
       "        vertical-align: top;\n",
       "    }\n",
       "\n",
       "    .dataframe thead th {\n",
       "        text-align: right;\n",
       "    }\n",
       "</style>\n",
       "<table border=\"1\" class=\"dataframe\">\n",
       "  <thead>\n",
       "    <tr style=\"text-align: right;\">\n",
       "      <th></th>\n",
       "      <th>REGION</th>\n",
       "      <th>DIVISION</th>\n",
       "      <th>STATE</th>\n",
       "    </tr>\n",
       "  </thead>\n",
       "  <tbody>\n",
       "    <tr>\n",
       "      <th>0</th>\n",
       "      <td>Northeast</td>\n",
       "      <td>NaN</td>\n",
       "      <td>NaN</td>\n",
       "    </tr>\n",
       "    <tr>\n",
       "      <th>1</th>\n",
       "      <td>NaN</td>\n",
       "      <td>New England</td>\n",
       "      <td>NaN</td>\n",
       "    </tr>\n",
       "    <tr>\n",
       "      <th>2</th>\n",
       "      <td>NaN</td>\n",
       "      <td>NaN</td>\n",
       "      <td>Connecticut</td>\n",
       "    </tr>\n",
       "    <tr>\n",
       "      <th>3</th>\n",
       "      <td>NaN</td>\n",
       "      <td>NaN</td>\n",
       "      <td>Maine</td>\n",
       "    </tr>\n",
       "    <tr>\n",
       "      <th>4</th>\n",
       "      <td>NaN</td>\n",
       "      <td>NaN</td>\n",
       "      <td>Massachusetts</td>\n",
       "    </tr>\n",
       "    <tr>\n",
       "      <th>5</th>\n",
       "      <td>NaN</td>\n",
       "      <td>NaN</td>\n",
       "      <td>New Hampshire</td>\n",
       "    </tr>\n",
       "    <tr>\n",
       "      <th>6</th>\n",
       "      <td>NaN</td>\n",
       "      <td>NaN</td>\n",
       "      <td>Rhode Island</td>\n",
       "    </tr>\n",
       "    <tr>\n",
       "      <th>7</th>\n",
       "      <td>NaN</td>\n",
       "      <td>NaN</td>\n",
       "      <td>Vermont</td>\n",
       "    </tr>\n",
       "    <tr>\n",
       "      <th>8</th>\n",
       "      <td>NaN</td>\n",
       "      <td>Middle Atlantic</td>\n",
       "      <td>NaN</td>\n",
       "    </tr>\n",
       "    <tr>\n",
       "      <th>9</th>\n",
       "      <td>NaN</td>\n",
       "      <td>NaN</td>\n",
       "      <td>New Jersey</td>\n",
       "    </tr>\n",
       "  </tbody>\n",
       "</table>\n",
       "</div>"
      ],
      "text/plain": [
       "      REGION         DIVISION          STATE\n",
       "0  Northeast              NaN            NaN\n",
       "1        NaN      New England            NaN\n",
       "2        NaN              NaN    Connecticut\n",
       "3        NaN              NaN          Maine\n",
       "4        NaN              NaN  Massachusetts\n",
       "5        NaN              NaN  New Hampshire\n",
       "6        NaN              NaN   Rhode Island\n",
       "7        NaN              NaN        Vermont\n",
       "8        NaN  Middle Atlantic            NaN\n",
       "9        NaN              NaN     New Jersey"
      ]
     },
     "execution_count": 251,
     "metadata": {},
     "output_type": "execute_result"
    }
   ],
   "source": [
    "df_states.head(10)"
   ]
  },
  {
   "cell_type": "code",
   "execution_count": 252,
   "metadata": {},
   "outputs": [],
   "source": [
    "# Use forward fill to fill missing values\n",
    "df_states['REGION'].fillna(method='ffill', inplace=True)\n",
    "df_states['DIVISION'].fillna(method='ffill', inplace=True)\n",
    "df_states['STATE'].fillna(method='ffill', inplace=True)\n",
    "\n",
    "# Filter out rows where the STATE is not null\n",
    "df_states = df_states[df_states['STATE'].notnull()]\n",
    "\n",
    "# Reset the index\n",
    "df.reset_index(drop=True, inplace=True)"
   ]
  },
  {
   "cell_type": "code",
   "execution_count": 253,
   "metadata": {},
   "outputs": [
    {
     "data": {
      "text/html": [
       "<div>\n",
       "<style scoped>\n",
       "    .dataframe tbody tr th:only-of-type {\n",
       "        vertical-align: middle;\n",
       "    }\n",
       "\n",
       "    .dataframe tbody tr th {\n",
       "        vertical-align: top;\n",
       "    }\n",
       "\n",
       "    .dataframe thead th {\n",
       "        text-align: right;\n",
       "    }\n",
       "</style>\n",
       "<table border=\"1\" class=\"dataframe\">\n",
       "  <thead>\n",
       "    <tr style=\"text-align: right;\">\n",
       "      <th></th>\n",
       "      <th>REGION</th>\n",
       "      <th>DIVISION</th>\n",
       "      <th>STATE</th>\n",
       "    </tr>\n",
       "  </thead>\n",
       "  <tbody>\n",
       "    <tr>\n",
       "      <th>2</th>\n",
       "      <td>Northeast</td>\n",
       "      <td>New England</td>\n",
       "      <td>Connecticut</td>\n",
       "    </tr>\n",
       "    <tr>\n",
       "      <th>3</th>\n",
       "      <td>Northeast</td>\n",
       "      <td>New England</td>\n",
       "      <td>Maine</td>\n",
       "    </tr>\n",
       "    <tr>\n",
       "      <th>4</th>\n",
       "      <td>Northeast</td>\n",
       "      <td>New England</td>\n",
       "      <td>Massachusetts</td>\n",
       "    </tr>\n",
       "    <tr>\n",
       "      <th>5</th>\n",
       "      <td>Northeast</td>\n",
       "      <td>New England</td>\n",
       "      <td>New Hampshire</td>\n",
       "    </tr>\n",
       "    <tr>\n",
       "      <th>6</th>\n",
       "      <td>Northeast</td>\n",
       "      <td>New England</td>\n",
       "      <td>Rhode Island</td>\n",
       "    </tr>\n",
       "    <tr>\n",
       "      <th>7</th>\n",
       "      <td>Northeast</td>\n",
       "      <td>New England</td>\n",
       "      <td>Vermont</td>\n",
       "    </tr>\n",
       "    <tr>\n",
       "      <th>8</th>\n",
       "      <td>Northeast</td>\n",
       "      <td>Middle Atlantic</td>\n",
       "      <td>Vermont</td>\n",
       "    </tr>\n",
       "    <tr>\n",
       "      <th>9</th>\n",
       "      <td>Northeast</td>\n",
       "      <td>Middle Atlantic</td>\n",
       "      <td>New Jersey</td>\n",
       "    </tr>\n",
       "    <tr>\n",
       "      <th>10</th>\n",
       "      <td>Northeast</td>\n",
       "      <td>Middle Atlantic</td>\n",
       "      <td>New York</td>\n",
       "    </tr>\n",
       "    <tr>\n",
       "      <th>11</th>\n",
       "      <td>Northeast</td>\n",
       "      <td>Middle Atlantic</td>\n",
       "      <td>Pennsylvania</td>\n",
       "    </tr>\n",
       "  </tbody>\n",
       "</table>\n",
       "</div>"
      ],
      "text/plain": [
       "       REGION         DIVISION          STATE\n",
       "2   Northeast      New England    Connecticut\n",
       "3   Northeast      New England          Maine\n",
       "4   Northeast      New England  Massachusetts\n",
       "5   Northeast      New England  New Hampshire\n",
       "6   Northeast      New England   Rhode Island\n",
       "7   Northeast      New England        Vermont\n",
       "8   Northeast  Middle Atlantic        Vermont\n",
       "9   Northeast  Middle Atlantic     New Jersey\n",
       "10  Northeast  Middle Atlantic       New York\n",
       "11  Northeast  Middle Atlantic   Pennsylvania"
      ]
     },
     "execution_count": 253,
     "metadata": {},
     "output_type": "execute_result"
    }
   ],
   "source": [
    "df_states.head(10)"
   ]
  },
  {
   "cell_type": "code",
   "execution_count": 254,
   "metadata": {},
   "outputs": [],
   "source": [
    "# Merge the two dataframes on the state name to get the region and division\n",
    "df = df.merge(df_states[['DIVISION','STATE']], left_on='state', right_on='STATE', how='left')\n",
    "\n",
    "# Drop the STATE column\n",
    "df = df.drop(columns=['STATE'])"
   ]
  },
  {
   "cell_type": "code",
   "execution_count": 255,
   "metadata": {},
   "outputs": [
    {
     "data": {
      "text/html": [
       "<div>\n",
       "<style scoped>\n",
       "    .dataframe tbody tr th:only-of-type {\n",
       "        vertical-align: middle;\n",
       "    }\n",
       "\n",
       "    .dataframe tbody tr th {\n",
       "        vertical-align: top;\n",
       "    }\n",
       "\n",
       "    .dataframe thead th {\n",
       "        text-align: right;\n",
       "    }\n",
       "</style>\n",
       "<table border=\"1\" class=\"dataframe\">\n",
       "  <thead>\n",
       "    <tr style=\"text-align: right;\">\n",
       "      <th></th>\n",
       "      <th>article_title</th>\n",
       "      <th>revision_id</th>\n",
       "      <th>article_quality</th>\n",
       "      <th>state</th>\n",
       "      <th>DIVISION</th>\n",
       "    </tr>\n",
       "  </thead>\n",
       "  <tbody>\n",
       "    <tr>\n",
       "      <th>0</th>\n",
       "      <td>Abbeville, Alabama</td>\n",
       "      <td>1171163550</td>\n",
       "      <td>C</td>\n",
       "      <td>Alabama</td>\n",
       "      <td>East South Central</td>\n",
       "    </tr>\n",
       "    <tr>\n",
       "      <th>1</th>\n",
       "      <td>Abbeville, Alabama</td>\n",
       "      <td>1171163550</td>\n",
       "      <td>C</td>\n",
       "      <td>Alabama</td>\n",
       "      <td>East South Central</td>\n",
       "    </tr>\n",
       "    <tr>\n",
       "      <th>2</th>\n",
       "      <td>Adamsville, Alabama</td>\n",
       "      <td>1177621427</td>\n",
       "      <td>C</td>\n",
       "      <td>Alabama</td>\n",
       "      <td>East South Central</td>\n",
       "    </tr>\n",
       "    <tr>\n",
       "      <th>3</th>\n",
       "      <td>Adamsville, Alabama</td>\n",
       "      <td>1177621427</td>\n",
       "      <td>C</td>\n",
       "      <td>Alabama</td>\n",
       "      <td>East South Central</td>\n",
       "    </tr>\n",
       "    <tr>\n",
       "      <th>4</th>\n",
       "      <td>Addison, Alabama</td>\n",
       "      <td>1168359898</td>\n",
       "      <td>C</td>\n",
       "      <td>Alabama</td>\n",
       "      <td>East South Central</td>\n",
       "    </tr>\n",
       "  </tbody>\n",
       "</table>\n",
       "</div>"
      ],
      "text/plain": [
       "         article_title  revision_id article_quality    state  \\\n",
       "0   Abbeville, Alabama   1171163550               C  Alabama   \n",
       "1   Abbeville, Alabama   1171163550               C  Alabama   \n",
       "2  Adamsville, Alabama   1177621427               C  Alabama   \n",
       "3  Adamsville, Alabama   1177621427               C  Alabama   \n",
       "4     Addison, Alabama   1168359898               C  Alabama   \n",
       "\n",
       "             DIVISION  \n",
       "0  East South Central  \n",
       "1  East South Central  \n",
       "2  East South Central  \n",
       "3  East South Central  \n",
       "4  East South Central  "
      ]
     },
     "execution_count": 255,
     "metadata": {},
     "output_type": "execute_result"
    }
   ],
   "source": [
    "df.head()"
   ]
  },
  {
   "cell_type": "code",
   "execution_count": 256,
   "metadata": {},
   "outputs": [
    {
     "data": {
      "text/plain": [
       "article_title      0\n",
       "revision_id        0\n",
       "article_quality    0\n",
       "state              0\n",
       "DIVISION           0\n",
       "dtype: int64"
      ]
     },
     "execution_count": 256,
     "metadata": {},
     "output_type": "execute_result"
    }
   ],
   "source": [
    "# Check for missing values\n",
    "df.isna().sum()"
   ]
  },
  {
   "cell_type": "code",
   "execution_count": 278,
   "metadata": {},
   "outputs": [],
   "source": [
    "# Read population data from the XLSX file from the 10th row with given headers\n",
    "df_population = pd.read_excel(\"NST-EST2022-POP.xlsx\", header=None, skiprows=9, names=['State','Base 2020 Population', '2020 Estimate', '2021 Estimate', '2022 Estimate'],\n",
    "                              skipfooter=5)\n",
    "\n",
    "# Drop null values\n",
    "df_population = df_population[df_population['State'].notnull()]"
   ]
  },
  {
   "cell_type": "code",
   "execution_count": 280,
   "metadata": {},
   "outputs": [],
   "source": [
    "# Remove the \".\" from the state names\n",
    "df_population['State'] = df_population['State'].str.replace(\".\", \"\")"
   ]
  },
  {
   "cell_type": "code",
   "execution_count": 281,
   "metadata": {},
   "outputs": [
    {
     "data": {
      "text/html": [
       "<div>\n",
       "<style scoped>\n",
       "    .dataframe tbody tr th:only-of-type {\n",
       "        vertical-align: middle;\n",
       "    }\n",
       "\n",
       "    .dataframe tbody tr th {\n",
       "        vertical-align: top;\n",
       "    }\n",
       "\n",
       "    .dataframe thead th {\n",
       "        text-align: right;\n",
       "    }\n",
       "</style>\n",
       "<table border=\"1\" class=\"dataframe\">\n",
       "  <thead>\n",
       "    <tr style=\"text-align: right;\">\n",
       "      <th></th>\n",
       "      <th>State</th>\n",
       "      <th>Base 2020 Population</th>\n",
       "      <th>2020 Estimate</th>\n",
       "      <th>2021 Estimate</th>\n",
       "      <th>2022 Estimate</th>\n",
       "    </tr>\n",
       "  </thead>\n",
       "  <tbody>\n",
       "    <tr>\n",
       "      <th>0</th>\n",
       "      <td>Alabama</td>\n",
       "      <td>5024356.0</td>\n",
       "      <td>5031362.0</td>\n",
       "      <td>5049846.0</td>\n",
       "      <td>5074296.0</td>\n",
       "    </tr>\n",
       "    <tr>\n",
       "      <th>1</th>\n",
       "      <td>Alaska</td>\n",
       "      <td>733378.0</td>\n",
       "      <td>732923.0</td>\n",
       "      <td>734182.0</td>\n",
       "      <td>733583.0</td>\n",
       "    </tr>\n",
       "    <tr>\n",
       "      <th>2</th>\n",
       "      <td>Arizona</td>\n",
       "      <td>7151507.0</td>\n",
       "      <td>7179943.0</td>\n",
       "      <td>7264877.0</td>\n",
       "      <td>7359197.0</td>\n",
       "    </tr>\n",
       "    <tr>\n",
       "      <th>3</th>\n",
       "      <td>Arkansas</td>\n",
       "      <td>3011555.0</td>\n",
       "      <td>3014195.0</td>\n",
       "      <td>3028122.0</td>\n",
       "      <td>3045637.0</td>\n",
       "    </tr>\n",
       "    <tr>\n",
       "      <th>4</th>\n",
       "      <td>California</td>\n",
       "      <td>39538245.0</td>\n",
       "      <td>39501653.0</td>\n",
       "      <td>39142991.0</td>\n",
       "      <td>39029342.0</td>\n",
       "    </tr>\n",
       "  </tbody>\n",
       "</table>\n",
       "</div>"
      ],
      "text/plain": [
       "        State  Base 2020 Population  2020 Estimate  2021 Estimate  \\\n",
       "0     Alabama             5024356.0      5031362.0      5049846.0   \n",
       "1      Alaska              733378.0       732923.0       734182.0   \n",
       "2     Arizona             7151507.0      7179943.0      7264877.0   \n",
       "3    Arkansas             3011555.0      3014195.0      3028122.0   \n",
       "4  California            39538245.0     39501653.0     39142991.0   \n",
       "\n",
       "   2022 Estimate  \n",
       "0      5074296.0  \n",
       "1       733583.0  \n",
       "2      7359197.0  \n",
       "3      3045637.0  \n",
       "4     39029342.0  "
      ]
     },
     "execution_count": 281,
     "metadata": {},
     "output_type": "execute_result"
    }
   ],
   "source": [
    "df_population.head()"
   ]
  },
  {
   "cell_type": "code",
   "execution_count": 282,
   "metadata": {},
   "outputs": [],
   "source": [
    "# Keep only state name and 2022 estimate columns\n",
    "df_population = df_population[['State', '2022 Estimate']]"
   ]
  },
  {
   "cell_type": "code",
   "execution_count": 283,
   "metadata": {},
   "outputs": [],
   "source": [
    "# Merge df with df_population on the state name\n",
    "df = df.merge(df_population, left_on='state', right_on='State', how='left')"
   ]
  },
  {
   "cell_type": "code",
   "execution_count": 284,
   "metadata": {},
   "outputs": [
    {
     "data": {
      "text/html": [
       "<div>\n",
       "<style scoped>\n",
       "    .dataframe tbody tr th:only-of-type {\n",
       "        vertical-align: middle;\n",
       "    }\n",
       "\n",
       "    .dataframe tbody tr th {\n",
       "        vertical-align: top;\n",
       "    }\n",
       "\n",
       "    .dataframe thead th {\n",
       "        text-align: right;\n",
       "    }\n",
       "</style>\n",
       "<table border=\"1\" class=\"dataframe\">\n",
       "  <thead>\n",
       "    <tr style=\"text-align: right;\">\n",
       "      <th></th>\n",
       "      <th>article_title</th>\n",
       "      <th>revision_id</th>\n",
       "      <th>article_quality</th>\n",
       "      <th>state</th>\n",
       "      <th>DIVISION</th>\n",
       "      <th>State</th>\n",
       "      <th>2022 Estimate</th>\n",
       "    </tr>\n",
       "  </thead>\n",
       "  <tbody>\n",
       "    <tr>\n",
       "      <th>0</th>\n",
       "      <td>Abbeville, Alabama</td>\n",
       "      <td>1171163550</td>\n",
       "      <td>C</td>\n",
       "      <td>Alabama</td>\n",
       "      <td>East South Central</td>\n",
       "      <td>Alabama</td>\n",
       "      <td>5074296.0</td>\n",
       "    </tr>\n",
       "    <tr>\n",
       "      <th>1</th>\n",
       "      <td>Abbeville, Alabama</td>\n",
       "      <td>1171163550</td>\n",
       "      <td>C</td>\n",
       "      <td>Alabama</td>\n",
       "      <td>East South Central</td>\n",
       "      <td>Alabama</td>\n",
       "      <td>5074296.0</td>\n",
       "    </tr>\n",
       "    <tr>\n",
       "      <th>2</th>\n",
       "      <td>Adamsville, Alabama</td>\n",
       "      <td>1177621427</td>\n",
       "      <td>C</td>\n",
       "      <td>Alabama</td>\n",
       "      <td>East South Central</td>\n",
       "      <td>Alabama</td>\n",
       "      <td>5074296.0</td>\n",
       "    </tr>\n",
       "    <tr>\n",
       "      <th>3</th>\n",
       "      <td>Adamsville, Alabama</td>\n",
       "      <td>1177621427</td>\n",
       "      <td>C</td>\n",
       "      <td>Alabama</td>\n",
       "      <td>East South Central</td>\n",
       "      <td>Alabama</td>\n",
       "      <td>5074296.0</td>\n",
       "    </tr>\n",
       "    <tr>\n",
       "      <th>4</th>\n",
       "      <td>Addison, Alabama</td>\n",
       "      <td>1168359898</td>\n",
       "      <td>C</td>\n",
       "      <td>Alabama</td>\n",
       "      <td>East South Central</td>\n",
       "      <td>Alabama</td>\n",
       "      <td>5074296.0</td>\n",
       "    </tr>\n",
       "  </tbody>\n",
       "</table>\n",
       "</div>"
      ],
      "text/plain": [
       "         article_title  revision_id article_quality    state  \\\n",
       "0   Abbeville, Alabama   1171163550               C  Alabama   \n",
       "1   Abbeville, Alabama   1171163550               C  Alabama   \n",
       "2  Adamsville, Alabama   1177621427               C  Alabama   \n",
       "3  Adamsville, Alabama   1177621427               C  Alabama   \n",
       "4     Addison, Alabama   1168359898               C  Alabama   \n",
       "\n",
       "             DIVISION    State  2022 Estimate  \n",
       "0  East South Central  Alabama      5074296.0  \n",
       "1  East South Central  Alabama      5074296.0  \n",
       "2  East South Central  Alabama      5074296.0  \n",
       "3  East South Central  Alabama      5074296.0  \n",
       "4  East South Central  Alabama      5074296.0  "
      ]
     },
     "execution_count": 284,
     "metadata": {},
     "output_type": "execute_result"
    }
   ],
   "source": [
    "df.head()"
   ]
  },
  {
   "cell_type": "code",
   "execution_count": 285,
   "metadata": {},
   "outputs": [
    {
     "data": {
      "text/plain": [
       "article_title      0\n",
       "revision_id        0\n",
       "article_quality    0\n",
       "state              0\n",
       "DIVISION           0\n",
       "State              0\n",
       "2022 Estimate      0\n",
       "dtype: int64"
      ]
     },
     "execution_count": 285,
     "metadata": {},
     "output_type": "execute_result"
    }
   ],
   "source": [
    "# Check for missing values in df\n",
    "df.isna().sum()"
   ]
  },
  {
   "cell_type": "code",
   "execution_count": 287,
   "metadata": {},
   "outputs": [],
   "source": [
    "# Drop article title duplicates \n",
    "df = df.drop_duplicates(subset=['article_title'])"
   ]
  },
  {
   "cell_type": "code",
   "execution_count": 289,
   "metadata": {},
   "outputs": [
    {
     "name": "stdout",
     "output_type": "stream",
     "text": [
      "Dropped 2020 United States census\n",
      "Dropped 2010 United States census\n",
      "Dropped County (United States)\n",
      "Dropped Population\n",
      "Dropped Square mile\n",
      "Dropped Federal Information Processing Standards\n",
      "Dropped American National Standards Institute\n",
      "Dropped Geographic Names Information System\n",
      "Dropped Wikipedia:Citation needed\n"
     ]
    }
   ],
   "source": [
    "# Remove all articles with article name in list. This list represents articles that are not cities\n",
    "articles_to_remove = ['Federal Information Processing Standards',\n",
    " 'American National Standards Institute',\n",
    " 'Geographic Names Information System',\n",
    " 'Wikipedia:Citation needed',\n",
    " '2020 United States census',\n",
    " '2010 United States census',\n",
    " 'County (United States)',\n",
    " 'Population',\n",
    " 'Square mile']\n",
    "for index, row in df.iterrows():\n",
    "    if row['article_title'] in articles_to_remove:\n",
    "        df.drop(index, inplace=True)\n",
    "        print(f\"Dropped {row['article_title']}\")"
   ]
  },
  {
   "cell_type": "code",
   "execution_count": 291,
   "metadata": {},
   "outputs": [],
   "source": [
    "# Select only the columns that are required for the analysis\n",
    "df = df[['state', 'DIVISION', '2022 Estimate', 'article_title', 'revision_id', 'article_quality']]"
   ]
  },
  {
   "cell_type": "code",
   "execution_count": 292,
   "metadata": {},
   "outputs": [],
   "source": [
    "# Rename the columns\n",
    "df.columns = ['state', 'division', 'population', 'article_title', 'revision_id', 'article_quality']"
   ]
  },
  {
   "cell_type": "code",
   "execution_count": 293,
   "metadata": {},
   "outputs": [],
   "source": [
    "# Write the dataframe to a CSV file\n",
    "df.to_csv(\"wp_scored_city_articles_by_state.csv\", index=False)"
   ]
  }
 ],
 "metadata": {
  "kernelspec": {
   "display_name": "Python 3",
   "language": "python",
   "name": "python3"
  },
  "language_info": {
   "codemirror_mode": {
    "name": "ipython",
    "version": 3
   },
   "file_extension": ".py",
   "mimetype": "text/x-python",
   "name": "python",
   "nbconvert_exporter": "python",
   "pygments_lexer": "ipython3",
   "version": "3.10.12"
  }
 },
 "nbformat": 4,
 "nbformat_minor": 2
}
