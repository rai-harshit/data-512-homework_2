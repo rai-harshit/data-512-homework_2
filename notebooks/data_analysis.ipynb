{
 "cells": [
  {
   "cell_type": "code",
   "execution_count": 2,
   "metadata": {},
   "outputs": [],
   "source": [
    "import pandas as pd"
   ]
  },
  {
   "cell_type": "code",
   "execution_count": 3,
   "metadata": {},
   "outputs": [],
   "source": [
    "df_raw = pd.read_csv(\"../data/wp_scored_city_articles_by_state.csv\")"
   ]
  },
  {
   "cell_type": "code",
   "execution_count": 4,
   "metadata": {},
   "outputs": [
    {
     "data": {
      "text/html": [
       "<div>\n",
       "<style scoped>\n",
       "    .dataframe tbody tr th:only-of-type {\n",
       "        vertical-align: middle;\n",
       "    }\n",
       "\n",
       "    .dataframe tbody tr th {\n",
       "        vertical-align: top;\n",
       "    }\n",
       "\n",
       "    .dataframe thead th {\n",
       "        text-align: right;\n",
       "    }\n",
       "</style>\n",
       "<table border=\"1\" class=\"dataframe\">\n",
       "  <thead>\n",
       "    <tr style=\"text-align: right;\">\n",
       "      <th></th>\n",
       "      <th>state</th>\n",
       "      <th>division</th>\n",
       "      <th>population</th>\n",
       "      <th>article_title</th>\n",
       "      <th>revision_id</th>\n",
       "      <th>article_quality</th>\n",
       "    </tr>\n",
       "  </thead>\n",
       "  <tbody>\n",
       "    <tr>\n",
       "      <th>0</th>\n",
       "      <td>Alabama</td>\n",
       "      <td>East South Central</td>\n",
       "      <td>5074296.0</td>\n",
       "      <td>Abbeville, Alabama</td>\n",
       "      <td>1171163550</td>\n",
       "      <td>C</td>\n",
       "    </tr>\n",
       "    <tr>\n",
       "      <th>1</th>\n",
       "      <td>Alabama</td>\n",
       "      <td>East South Central</td>\n",
       "      <td>5074296.0</td>\n",
       "      <td>Adamsville, Alabama</td>\n",
       "      <td>1177621427</td>\n",
       "      <td>C</td>\n",
       "    </tr>\n",
       "    <tr>\n",
       "      <th>2</th>\n",
       "      <td>Alabama</td>\n",
       "      <td>East South Central</td>\n",
       "      <td>5074296.0</td>\n",
       "      <td>Addison, Alabama</td>\n",
       "      <td>1168359898</td>\n",
       "      <td>C</td>\n",
       "    </tr>\n",
       "    <tr>\n",
       "      <th>3</th>\n",
       "      <td>Alabama</td>\n",
       "      <td>East South Central</td>\n",
       "      <td>5074296.0</td>\n",
       "      <td>Akron, Alabama</td>\n",
       "      <td>1165909508</td>\n",
       "      <td>GA</td>\n",
       "    </tr>\n",
       "    <tr>\n",
       "      <th>4</th>\n",
       "      <td>Alabama</td>\n",
       "      <td>East South Central</td>\n",
       "      <td>5074296.0</td>\n",
       "      <td>Alabaster, Alabama</td>\n",
       "      <td>1179139816</td>\n",
       "      <td>C</td>\n",
       "    </tr>\n",
       "  </tbody>\n",
       "</table>\n",
       "</div>"
      ],
      "text/plain": [
       "     state            division  population        article_title  revision_id  \\\n",
       "0  Alabama  East South Central   5074296.0   Abbeville, Alabama   1171163550   \n",
       "1  Alabama  East South Central   5074296.0  Adamsville, Alabama   1177621427   \n",
       "2  Alabama  East South Central   5074296.0     Addison, Alabama   1168359898   \n",
       "3  Alabama  East South Central   5074296.0       Akron, Alabama   1165909508   \n",
       "4  Alabama  East South Central   5074296.0   Alabaster, Alabama   1179139816   \n",
       "\n",
       "  article_quality  \n",
       "0               C  \n",
       "1               C  \n",
       "2               C  \n",
       "3              GA  \n",
       "4               C  "
      ]
     },
     "execution_count": 4,
     "metadata": {},
     "output_type": "execute_result"
    }
   ],
   "source": [
    "df_raw.head()  "
   ]
  },
  {
   "cell_type": "code",
   "execution_count": 15,
   "metadata": {},
   "outputs": [
    {
     "name": "stdout",
     "output_type": "stream",
     "text": [
      "Top 10 US States by Coverage:\n",
      "------------------------------\n",
      "           State  Total Articles per Capita\n",
      "0        Vermont                   0.000507\n",
      "1   North Dakota                   0.000457\n",
      "2          Maine                   0.000349\n",
      "3   South Dakota                   0.000342\n",
      "4           Iowa                   0.000326\n",
      "5         Alaska                   0.000203\n",
      "6   Pennsylvania                   0.000197\n",
      "7       Michigan                   0.000177\n",
      "8        Wyoming                   0.000170\n",
      "9  New Hampshire                   0.000168\n"
     ]
    }
   ],
   "source": [
    "# Calculate total articles per capita\n",
    "total_articles_per_capita = df_raw.groupby('state')['article_title'].count() / df_raw.groupby('state')['population'].mean()\n",
    "\n",
    "# Sort the states by total articles per capita in descending order and select the top 10\n",
    "top_10_states_by_coverage = total_articles_per_capita.sort_values(ascending=False).head(10)\n",
    "\n",
    "# Create a DataFrame for the top 10 states by coverage\n",
    "top_10_states_df = pd.DataFrame({\n",
    "    'State': top_10_states_by_coverage.index,\n",
    "    'Total Articles per Capita': top_10_states_by_coverage.values\n",
    "})\n",
    "\n",
    "# Display the top 10 states by coverage\n",
    "print(\"Top 10 US States by Coverage:\")\n",
    "print(\"------------------------------\")\n",
    "print(top_10_states_df)"
   ]
  },
  {
   "cell_type": "code",
   "execution_count": 12,
   "metadata": {},
   "outputs": [
    {
     "name": "stdout",
     "output_type": "stream",
     "text": [
      "Bottom 10 US States by Coverage (in ascending order):\n",
      "-----------------------------------------------------\n",
      "            State  Total Articles per Capita\n",
      "0  North Carolina                   0.000005\n",
      "1          Nevada                   0.000006\n",
      "2      California                   0.000012\n",
      "3         Arizona                   0.000012\n",
      "4        Virginia                   0.000015\n",
      "5         Florida                   0.000018\n",
      "6        Oklahoma                   0.000019\n",
      "7          Kansas                   0.000021\n",
      "8        Maryland                   0.000025\n",
      "9       Wisconsin                   0.000032\n"
     ]
    }
   ],
   "source": [
    "# Sort the states by total articles per capita in ascending order and select the bottom 10\n",
    "bottom_10_states_by_coverage = total_articles_per_capita.sort_values(ascending=True).head(10)\n",
    "\n",
    "# Create a DataFrame for the bottom 10 states by coverage\n",
    "bottom_10_states_df = pd.DataFrame({\n",
    "    'State': bottom_10_states_by_coverage.index,\n",
    "    'Total Articles per Capita': bottom_10_states_by_coverage.values\n",
    "})\n",
    "\n",
    "# Display the bottom 10 states by coverage\n",
    "print(\"Bottom 10 US States by Coverage (in ascending order):\")\n",
    "print(\"-----------------------------------------------------\")\n",
    "print(bottom_10_states_df)"
   ]
  },
  {
   "cell_type": "code",
   "execution_count": 11,
   "metadata": {},
   "outputs": [
    {
     "name": "stdout",
     "output_type": "stream",
     "text": [
      "Top 10 US States by High Quality Articles per Capita (in descending order):\n",
      "-----------------------------------------------------------------------------\n",
      "           State  High Quality Articles per Capita\n",
      "0        Vermont                          0.000070\n",
      "1        Wyoming                          0.000067\n",
      "2   South Dakota                          0.000062\n",
      "3  West Virginia                          0.000060\n",
      "4        Montana                          0.000049\n",
      "5  New Hampshire                          0.000045\n",
      "6   Pennsylvania                          0.000044\n",
      "7       Missouri                          0.000043\n",
      "8         Alaska                          0.000042\n",
      "9     New Jersey                          0.000041\n"
     ]
    }
   ],
   "source": [
    "# Filter and count high-quality articles (FA or GA)\n",
    "high_quality_articles = df_raw[df_raw['article_quality'].isin(['FA', 'GA'])]\n",
    "\n",
    "# Calculate high-quality articles per capita\n",
    "high_quality_articles_per_capita = high_quality_articles.groupby('state')['article_title'].count() / df_raw.groupby('state')['population'].mean()\n",
    "\n",
    "# Sort the states by high-quality articles per capita in descending order and select the top 10\n",
    "top_10_states_by_high_quality = high_quality_articles_per_capita.sort_values(ascending=False).head(10)\n",
    "\n",
    "# Create DataFrames for the top and bottom 10 states by high quality\n",
    "top_10_states_high_quality_df = pd.DataFrame({\n",
    "    'State': top_10_states_by_high_quality.index,\n",
    "    'High Quality Articles per Capita': top_10_states_by_high_quality.values\n",
    "})\n",
    "\n",
    "# Display the top 10 and bottom 10 states by high quality\n",
    "print(\"Top 10 US States by High Quality Articles per Capita (in descending order):\")\n",
    "print(\"-----------------------------------------------------------------------------\")\n",
    "print(top_10_states_high_quality_df)"
   ]
  },
  {
   "cell_type": "code",
   "execution_count": 16,
   "metadata": {},
   "outputs": [
    {
     "name": "stdout",
     "output_type": "stream",
     "text": [
      "\n",
      "Bottom 10 US States by High Quality Articles per Capita (in ascending order):\n",
      "-----------------------------------------------------------------------------\n",
      "            State  High Quality Articles per Capita\n",
      "0  North Carolina                          0.000002\n",
      "1        Virginia                          0.000002\n",
      "2          Nevada                          0.000003\n",
      "3         Arizona                          0.000003\n",
      "4      California                          0.000004\n",
      "5         Florida                          0.000005\n",
      "6        New York                          0.000006\n",
      "7        Maryland                          0.000007\n",
      "8          Kansas                          0.000007\n",
      "9        Oklahoma                          0.000008\n"
     ]
    }
   ],
   "source": [
    "# Sort the states by high-quality articles per capita in ascending order and select the bottom 10\n",
    "bottom_10_states_by_high_quality = high_quality_articles_per_capita.sort_values(ascending=True).head(10)\n",
    "\n",
    "bottom_10_states_high_quality_df = pd.DataFrame({\n",
    "    'State': bottom_10_states_by_high_quality.index,\n",
    "    'High Quality Articles per Capita': bottom_10_states_by_high_quality.values\n",
    "})\n",
    "print(\"\\nBottom 10 US States by High Quality Articles per Capita (in ascending order):\")\n",
    "print(\"-----------------------------------------------------------------------------\")\n",
    "print(bottom_10_states_high_quality_df)"
   ]
  },
  {
   "cell_type": "code",
   "execution_count": 17,
   "metadata": {},
   "outputs": [
    {
     "name": "stdout",
     "output_type": "stream",
     "text": [
      "Census Divisions by Total Coverage (in descending order):\n",
      "----------------------------------------------------------\n",
      "      Census Division  Total Articles per Capita\n",
      "0  West North Central                   0.000862\n",
      "1         New England                   0.000556\n",
      "2  East North Central                   0.000452\n",
      "3            Mountain                   0.000345\n",
      "4  East South Central                   0.000309\n",
      "5     Middle Atlantic                   0.000278\n",
      "6      South Atlantic                   0.000175\n",
      "7  West South Central                   0.000111\n",
      "8             Pacific                   0.000076\n"
     ]
    }
   ],
   "source": [
    "# Calculate total articles per capita by Census division\n",
    "total_articles_per_capita_by_division = df_raw.groupby('division')['article_title'].count() / df_raw.groupby('division')['population'].mean()\n",
    "\n",
    "\n",
    "# Sort the divisions by total articles per capita in descending order\n",
    "sorted_divisions_by_total_coverage = total_articles_per_capita_by_division.sort_values(ascending=False)\n",
    "\n",
    "# Create DataFrames for rank-ordered lists\n",
    "divisions_by_total_coverage_df = pd.DataFrame({\n",
    "    'Census Division': sorted_divisions_by_total_coverage.index,\n",
    "    'Total Articles per Capita': sorted_divisions_by_total_coverage.values\n",
    "})\n",
    "\n",
    "# Display rank-ordered lists\n",
    "print(\"Census Divisions by Total Coverage (in descending order):\")\n",
    "print(\"----------------------------------------------------------\")\n",
    "print(divisions_by_total_coverage_df)"
   ]
  },
  {
   "cell_type": "code",
   "execution_count": 18,
   "metadata": {},
   "outputs": [
    {
     "name": "stdout",
     "output_type": "stream",
     "text": [
      "\n",
      "Census Divisions by High Quality Coverage (in descending order):\n",
      "-------------------------------------------------------------------\n",
      "      Census Division  High Quality Articles per Capita\n",
      "0  West North Central                          0.000154\n",
      "1            Mountain                          0.000097\n",
      "2         New England                          0.000087\n",
      "3     Middle Atlantic                          0.000078\n",
      "4  East North Central                          0.000068\n",
      "5  East South Central                          0.000064\n",
      "6      South Atlantic                          0.000050\n",
      "7  West South Central                          0.000033\n",
      "8             Pacific                          0.000029\n"
     ]
    }
   ],
   "source": [
    "# Calculate high-quality articles per capita by Census division\n",
    "high_quality_articles_per_capita_by_division = high_quality_articles.groupby('division')['article_title'].count() / df_raw.groupby('division')['population'].mean()\n",
    "\n",
    "# Sort the divisions by high-quality articles per capita in descending order\n",
    "sorted_divisions_by_high_quality_coverage = high_quality_articles_per_capita_by_division.sort_values(ascending=False)\n",
    "\n",
    "divisions_by_high_quality_coverage_df = pd.DataFrame({\n",
    "    'Census Division': sorted_divisions_by_high_quality_coverage.index,\n",
    "    'High Quality Articles per Capita': sorted_divisions_by_high_quality_coverage.values\n",
    "})\n",
    "\n",
    "print(\"\\nCensus Divisions by High Quality Coverage (in descending order):\")\n",
    "print(\"-------------------------------------------------------------------\")\n",
    "print(divisions_by_high_quality_coverage_df)"
   ]
  }
 ],
 "metadata": {
  "kernelspec": {
   "display_name": "Python 3",
   "language": "python",
   "name": "python3"
  },
  "language_info": {
   "codemirror_mode": {
    "name": "ipython",
    "version": 3
   },
   "file_extension": ".py",
   "mimetype": "text/x-python",
   "name": "python",
   "nbconvert_exporter": "python",
   "pygments_lexer": "ipython3",
   "version": "3.10.12"
  }
 },
 "nbformat": 4,
 "nbformat_minor": 2
}
